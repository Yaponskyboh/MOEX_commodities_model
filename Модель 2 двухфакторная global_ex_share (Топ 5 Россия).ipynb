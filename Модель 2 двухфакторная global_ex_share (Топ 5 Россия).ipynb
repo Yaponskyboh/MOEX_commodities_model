{
 "cells": [
  {
   "cell_type": "code",
   "execution_count": 1,
   "metadata": {},
   "outputs": [],
   "source": [
    "import pandas as pd\n",
    "import seaborn as sns\n",
    "import matplotlib.pyplot as plt\n",
    "import numpy as np\n",
    "from sklearn.model_selection import learning_curve \n",
    "from sklearn.metrics import make_scorer, r2_score \n",
    "from sklearn.linear_model import LinearRegression"
   ]
  },
  {
   "cell_type": "code",
   "execution_count": 2,
   "metadata": {},
   "outputs": [],
   "source": [
    "%matplotlib inline"
   ]
  },
  {
   "cell_type": "code",
   "execution_count": 16,
   "metadata": {},
   "outputs": [
    {
     "data": {
      "text/html": [
       "<div>\n",
       "<style scoped>\n",
       "    .dataframe tbody tr th:only-of-type {\n",
       "        vertical-align: middle;\n",
       "    }\n",
       "\n",
       "    .dataframe tbody tr th {\n",
       "        vertical-align: top;\n",
       "    }\n",
       "\n",
       "    .dataframe thead th {\n",
       "        text-align: right;\n",
       "    }\n",
       "</style>\n",
       "<table border=\"1\" class=\"dataframe\">\n",
       "  <thead>\n",
       "    <tr style=\"text-align: right;\">\n",
       "      <th></th>\n",
       "      <th>Name</th>\n",
       "      <th>ex_usd</th>\n",
       "      <th>global_ex_share</th>\n",
       "      <th>ADTV_usd</th>\n",
       "    </tr>\n",
       "  </thead>\n",
       "  <tbody>\n",
       "    <tr>\n",
       "      <th>0</th>\n",
       "      <td>Нефть</td>\n",
       "      <td>110968247000</td>\n",
       "      <td>14</td>\n",
       "      <td>1774979618</td>\n",
       "    </tr>\n",
       "    <tr>\n",
       "      <th>1</th>\n",
       "      <td>Золото</td>\n",
       "      <td>17362166000</td>\n",
       "      <td>6</td>\n",
       "      <td>297640875</td>\n",
       "    </tr>\n",
       "    <tr>\n",
       "      <th>2</th>\n",
       "      <td>Платина</td>\n",
       "      <td>704591000</td>\n",
       "      <td>7</td>\n",
       "      <td>4568064</td>\n",
       "    </tr>\n",
       "    <tr>\n",
       "      <th>3</th>\n",
       "      <td>Газ</td>\n",
       "      <td>7320221000</td>\n",
       "      <td>5</td>\n",
       "      <td>63219642</td>\n",
       "    </tr>\n",
       "    <tr>\n",
       "      <th>4</th>\n",
       "      <td>Медь</td>\n",
       "      <td>3693017000</td>\n",
       "      <td>5</td>\n",
       "      <td>23479</td>\n",
       "    </tr>\n",
       "  </tbody>\n",
       "</table>\n",
       "</div>"
      ],
      "text/plain": [
       "      Name        ex_usd global_ex_share    ADTV_usd\n",
       "0    Нефть  110968247000              14  1774979618\n",
       "1   Золото   17362166000               6   297640875\n",
       "2  Платина     704591000               7     4568064\n",
       "3      Газ    7320221000               5    63219642\n",
       "4     Медь    3693017000               5       23479"
      ]
     },
     "execution_count": 16,
     "metadata": {},
     "output_type": "execute_result"
    }
   ],
   "source": [
    "name = ['Нефть', 'Золото', 'Платина', 'Газ', 'Медь']\n",
    "ex_usd = [110968247000, 17362166000, 704591000, 7320221000, 3693017000]\n",
    "global_ex_share = [14, 6, 7, 5, 5]\n",
    "ADTV_usd = [1774979618, 297640875, 4568064, 63219642, 23479]\n",
    "\n",
    "df = pd.DataFrame(columns = ['Name', 'ex_usd', 'global_ex_share', 'ADTV_usd'])\n",
    "for i in zip(name, ex_usd, global_ex_share, ADTV_usd):\n",
    "    row = {'Name': i[0], 'ex_usd': i[1], 'global_ex_share': i[2], 'ADTV_usd': i[3]}\n",
    "    df = df.append(row, ignore_index = True)\n",
    "df"
   ]
  },
  {
   "cell_type": "code",
   "execution_count": 17,
   "metadata": {},
   "outputs": [],
   "source": [
    "res = df[['ADTV_usd']]\n",
    "ent = df[['ex_usd', 'global_ex_share']]"
   ]
  },
  {
   "cell_type": "code",
   "execution_count": 18,
   "metadata": {},
   "outputs": [
    {
     "data": {
      "text/plain": [
       "0.9984829672050836"
      ]
     },
     "execution_count": 18,
     "metadata": {},
     "output_type": "execute_result"
    }
   ],
   "source": [
    "model = LinearRegression()\n",
    "model.fit(ent, res)\n",
    "model.score(ent, res)"
   ]
  },
  {
   "cell_type": "code",
   "execution_count": 19,
   "metadata": {},
   "outputs": [
    {
     "data": {
      "text/plain": [
       "array([[1.53639070e-02, 1.18191515e+07]])"
      ]
     },
     "execution_count": 19,
     "metadata": {},
     "output_type": "execute_result"
    }
   ],
   "source": [
    "model.coef_"
   ]
  },
  {
   "cell_type": "code",
   "execution_count": 20,
   "metadata": {},
   "outputs": [
    {
     "data": {
      "text/plain": [
       "array([-89713018.14667541])"
      ]
     },
     "execution_count": 20,
     "metadata": {},
     "output_type": "execute_result"
    }
   ],
   "source": [
    "model.intercept_"
   ]
  },
  {
   "cell_type": "code",
   "execution_count": 44,
   "metadata": {},
   "outputs": [
    {
     "data": {
      "text/html": [
       "<div>\n",
       "<style scoped>\n",
       "    .dataframe tbody tr th:only-of-type {\n",
       "        vertical-align: middle;\n",
       "    }\n",
       "\n",
       "    .dataframe tbody tr th {\n",
       "        vertical-align: top;\n",
       "    }\n",
       "\n",
       "    .dataframe thead th {\n",
       "        text-align: right;\n",
       "    }\n",
       "</style>\n",
       "<table border=\"1\" class=\"dataframe\">\n",
       "  <thead>\n",
       "    <tr style=\"text-align: right;\">\n",
       "      <th></th>\n",
       "      <th>Name</th>\n",
       "      <th>ex_usd</th>\n",
       "      <th>global_ex_share</th>\n",
       "    </tr>\n",
       "  </thead>\n",
       "  <tbody>\n",
       "    <tr>\n",
       "      <th>0</th>\n",
       "      <td>Каменный уголь</td>\n",
       "      <td>16506417000</td>\n",
       "      <td>16.0</td>\n",
       "    </tr>\n",
       "    <tr>\n",
       "      <th>1</th>\n",
       "      <td>Пшеница</td>\n",
       "      <td>7173222000</td>\n",
       "      <td>14.0</td>\n",
       "    </tr>\n",
       "    <tr>\n",
       "      <th>2</th>\n",
       "      <td>Удобрения</td>\n",
       "      <td>4932023000</td>\n",
       "      <td>17.8</td>\n",
       "    </tr>\n",
       "    <tr>\n",
       "      <th>3</th>\n",
       "      <td>Подсолнечник</td>\n",
       "      <td>2431389000</td>\n",
       "      <td>21.0</td>\n",
       "    </tr>\n",
       "    <tr>\n",
       "      <th>4</th>\n",
       "      <td>Ячмень</td>\n",
       "      <td>964468000</td>\n",
       "      <td>9.0</td>\n",
       "    </tr>\n",
       "    <tr>\n",
       "      <th>5</th>\n",
       "      <td>Гречиха</td>\n",
       "      <td>44291000</td>\n",
       "      <td>8.0</td>\n",
       "    </tr>\n",
       "    <tr>\n",
       "      <th>6</th>\n",
       "      <td>Рожь</td>\n",
       "      <td>20980000</td>\n",
       "      <td>8.0</td>\n",
       "    </tr>\n",
       "  </tbody>\n",
       "</table>\n",
       "</div>"
      ],
      "text/plain": [
       "             Name       ex_usd  global_ex_share\n",
       "0  Каменный уголь  16506417000             16.0\n",
       "1         Пшеница   7173222000             14.0\n",
       "2       Удобрения   4932023000             17.8\n",
       "3    Подсолнечник   2431389000             21.0\n",
       "4          Ячмень    964468000              9.0\n",
       "5         Гречиха     44291000              8.0\n",
       "6            Рожь     20980000              8.0"
      ]
     },
     "execution_count": 44,
     "metadata": {},
     "output_type": "execute_result"
    }
   ],
   "source": [
    "new_name = ['Каменный уголь', 'Пшеница', 'Удобрения', 'Подсолнечник', 'Ячмень', 'Гречиха', 'Рожь']\n",
    "new_ex_usd = [16506417000, 7173222000, 4932023000, 2431389000, 964468000, 44291000, 20980000]\n",
    "#у гречихи и ржи настоящие 33 и 5\n",
    "new_global_ex_share = [16, 14, 17.8, 21, 9, 8, 8]\n",
    "df1 = pd.DataFrame()\n",
    "df1['Name'] = new_name\n",
    "df1['ex_usd'] = new_ex_usd\n",
    "df1['global_ex_share'] = new_global_ex_share\n",
    "df1"
   ]
  },
  {
   "cell_type": "code",
   "execution_count": 45,
   "metadata": {},
   "outputs": [
    {
     "data": {
      "text/html": [
       "<div>\n",
       "<style scoped>\n",
       "    .dataframe tbody tr th:only-of-type {\n",
       "        vertical-align: middle;\n",
       "    }\n",
       "\n",
       "    .dataframe tbody tr th {\n",
       "        vertical-align: top;\n",
       "    }\n",
       "\n",
       "    .dataframe thead th {\n",
       "        text-align: right;\n",
       "    }\n",
       "</style>\n",
       "<table border=\"1\" class=\"dataframe\">\n",
       "  <thead>\n",
       "    <tr style=\"text-align: right;\">\n",
       "      <th></th>\n",
       "      <th>Name</th>\n",
       "      <th>ex_usd</th>\n",
       "      <th>global_ex_share</th>\n",
       "      <th>ADTV_usd</th>\n",
       "    </tr>\n",
       "  </thead>\n",
       "  <tbody>\n",
       "    <tr>\n",
       "      <th>0</th>\n",
       "      <td>Каменный уголь</td>\n",
       "      <td>16506417000</td>\n",
       "      <td>16.0</td>\n",
       "      <td>352996461</td>\n",
       "    </tr>\n",
       "    <tr>\n",
       "      <th>1</th>\n",
       "      <td>Пшеница</td>\n",
       "      <td>7173222000</td>\n",
       "      <td>14.0</td>\n",
       "      <td>185963818</td>\n",
       "    </tr>\n",
       "    <tr>\n",
       "      <th>2</th>\n",
       "      <td>Удобрения</td>\n",
       "      <td>4932023000</td>\n",
       "      <td>17.8</td>\n",
       "      <td>196443021</td>\n",
       "    </tr>\n",
       "    <tr>\n",
       "      <th>3</th>\n",
       "      <td>Подсолнечник</td>\n",
       "      <td>2431389000</td>\n",
       "      <td>21.0</td>\n",
       "      <td>195844798</td>\n",
       "    </tr>\n",
       "    <tr>\n",
       "      <th>4</th>\n",
       "      <td>Ячмень</td>\n",
       "      <td>964468000</td>\n",
       "      <td>9.0</td>\n",
       "      <td>31477342</td>\n",
       "    </tr>\n",
       "    <tr>\n",
       "      <th>5</th>\n",
       "      <td>Гречиха</td>\n",
       "      <td>44291000</td>\n",
       "      <td>8.0</td>\n",
       "      <td>5520677</td>\n",
       "    </tr>\n",
       "    <tr>\n",
       "      <th>6</th>\n",
       "      <td>Рожь</td>\n",
       "      <td>20980000</td>\n",
       "      <td>8.0</td>\n",
       "      <td>5162528</td>\n",
       "    </tr>\n",
       "  </tbody>\n",
       "</table>\n",
       "</div>"
      ],
      "text/plain": [
       "             Name       ex_usd  global_ex_share   ADTV_usd\n",
       "0  Каменный уголь  16506417000             16.0  352996461\n",
       "1         Пшеница   7173222000             14.0  185963818\n",
       "2       Удобрения   4932023000             17.8  196443021\n",
       "3    Подсолнечник   2431389000             21.0  195844798\n",
       "4          Ячмень    964468000              9.0   31477342\n",
       "5         Гречиха     44291000              8.0    5520677\n",
       "6            Рожь     20980000              8.0    5162528"
      ]
     },
     "execution_count": 45,
     "metadata": {},
     "output_type": "execute_result"
    }
   ],
   "source": [
    "inp = df1[['ex_usd', 'global_ex_share']]\n",
    "z = model.predict(inp)\n",
    "a = np.int_(z)\n",
    "df1['ADTV_usd'] = a\n",
    "df1"
   ]
  },
  {
   "cell_type": "code",
   "execution_count": null,
   "metadata": {},
   "outputs": [],
   "source": []
  },
  {
   "cell_type": "code",
   "execution_count": 46,
   "metadata": {},
   "outputs": [
    {
     "data": {
      "text/html": [
       "<div>\n",
       "<style scoped>\n",
       "    .dataframe tbody tr th:only-of-type {\n",
       "        vertical-align: middle;\n",
       "    }\n",
       "\n",
       "    .dataframe tbody tr th {\n",
       "        vertical-align: top;\n",
       "    }\n",
       "\n",
       "    .dataframe thead th {\n",
       "        text-align: right;\n",
       "    }\n",
       "</style>\n",
       "<table border=\"1\" class=\"dataframe\">\n",
       "  <thead>\n",
       "    <tr style=\"text-align: right;\">\n",
       "      <th></th>\n",
       "      <th>Name</th>\n",
       "      <th>ex_usd</th>\n",
       "      <th>global_ex_share</th>\n",
       "      <th>ADTV_usd</th>\n",
       "    </tr>\n",
       "  </thead>\n",
       "  <tbody>\n",
       "    <tr>\n",
       "      <th>0</th>\n",
       "      <td>Нефть</td>\n",
       "      <td>110968247000</td>\n",
       "      <td>14</td>\n",
       "      <td>1774979618</td>\n",
       "    </tr>\n",
       "    <tr>\n",
       "      <th>1</th>\n",
       "      <td>Золото</td>\n",
       "      <td>17362166000</td>\n",
       "      <td>6</td>\n",
       "      <td>297640875</td>\n",
       "    </tr>\n",
       "    <tr>\n",
       "      <th>2</th>\n",
       "      <td>Платина</td>\n",
       "      <td>704591000</td>\n",
       "      <td>7</td>\n",
       "      <td>4568064</td>\n",
       "    </tr>\n",
       "    <tr>\n",
       "      <th>3</th>\n",
       "      <td>Газ</td>\n",
       "      <td>7320221000</td>\n",
       "      <td>5</td>\n",
       "      <td>63219642</td>\n",
       "    </tr>\n",
       "    <tr>\n",
       "      <th>4</th>\n",
       "      <td>Медь</td>\n",
       "      <td>3693017000</td>\n",
       "      <td>5</td>\n",
       "      <td>23479</td>\n",
       "    </tr>\n",
       "    <tr>\n",
       "      <th>0</th>\n",
       "      <td>Каменный уголь</td>\n",
       "      <td>16506417000</td>\n",
       "      <td>16</td>\n",
       "      <td>352996461</td>\n",
       "    </tr>\n",
       "    <tr>\n",
       "      <th>1</th>\n",
       "      <td>Пшеница</td>\n",
       "      <td>7173222000</td>\n",
       "      <td>14</td>\n",
       "      <td>185963818</td>\n",
       "    </tr>\n",
       "    <tr>\n",
       "      <th>2</th>\n",
       "      <td>Удобрения</td>\n",
       "      <td>4932023000</td>\n",
       "      <td>17.8</td>\n",
       "      <td>196443021</td>\n",
       "    </tr>\n",
       "    <tr>\n",
       "      <th>3</th>\n",
       "      <td>Подсолнечник</td>\n",
       "      <td>2431389000</td>\n",
       "      <td>21</td>\n",
       "      <td>195844798</td>\n",
       "    </tr>\n",
       "    <tr>\n",
       "      <th>4</th>\n",
       "      <td>Ячмень</td>\n",
       "      <td>964468000</td>\n",
       "      <td>9</td>\n",
       "      <td>31477342</td>\n",
       "    </tr>\n",
       "    <tr>\n",
       "      <th>5</th>\n",
       "      <td>Гречиха</td>\n",
       "      <td>44291000</td>\n",
       "      <td>8</td>\n",
       "      <td>5520677</td>\n",
       "    </tr>\n",
       "    <tr>\n",
       "      <th>6</th>\n",
       "      <td>Рожь</td>\n",
       "      <td>20980000</td>\n",
       "      <td>8</td>\n",
       "      <td>5162528</td>\n",
       "    </tr>\n",
       "  </tbody>\n",
       "</table>\n",
       "</div>"
      ],
      "text/plain": [
       "             Name        ex_usd global_ex_share    ADTV_usd\n",
       "0           Нефть  110968247000              14  1774979618\n",
       "1          Золото   17362166000               6   297640875\n",
       "2         Платина     704591000               7     4568064\n",
       "3             Газ    7320221000               5    63219642\n",
       "4            Медь    3693017000               5       23479\n",
       "0  Каменный уголь   16506417000              16   352996461\n",
       "1         Пшеница    7173222000              14   185963818\n",
       "2       Удобрения    4932023000            17.8   196443021\n",
       "3    Подсолнечник    2431389000              21   195844798\n",
       "4          Ячмень     964468000               9    31477342\n",
       "5         Гречиха      44291000               8     5520677\n",
       "6            Рожь      20980000               8     5162528"
      ]
     },
     "execution_count": 46,
     "metadata": {},
     "output_type": "execute_result"
    }
   ],
   "source": [
    "pd.concat([df, df1], join='outer')"
   ]
  },
  {
   "cell_type": "code",
   "execution_count": null,
   "metadata": {},
   "outputs": [],
   "source": []
  }
 ],
 "metadata": {
  "kernelspec": {
   "display_name": "Python 3",
   "language": "python",
   "name": "python3"
  },
  "language_info": {
   "codemirror_mode": {
    "name": "ipython",
    "version": 3
   },
   "file_extension": ".py",
   "mimetype": "text/x-python",
   "name": "python",
   "nbconvert_exporter": "python",
   "pygments_lexer": "ipython3",
   "version": "3.8.5"
  }
 },
 "nbformat": 4,
 "nbformat_minor": 4
}
